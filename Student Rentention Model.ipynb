{
 "cells": [
  {
   "cell_type": "code",
   "execution_count": 4,
   "metadata": {},
   "outputs": [],
   "source": [
    "import time\n",
    "import random\n",
    "import matplotlib.pyplot as plt\n",
    "import pandas as pd\n",
    "import numpy as np\n",
    "import warnings \n",
    "import datetime\n",
    "import pandas as pd\n",
    "import matplotlib.dates as mdates\n",
    "import seaborn as sns\n",
    "warnings.filterwarnings('ignore')"
   ]
  },
  {
   "cell_type": "code",
   "execution_count": 8,
   "metadata": {},
   "outputs": [
    {
     "data": {
      "text/html": [
       "<div>\n",
       "<style scoped>\n",
       "    .dataframe tbody tr th:only-of-type {\n",
       "        vertical-align: middle;\n",
       "    }\n",
       "\n",
       "    .dataframe tbody tr th {\n",
       "        vertical-align: top;\n",
       "    }\n",
       "\n",
       "    .dataframe thead th {\n",
       "        text-align: right;\n",
       "    }\n",
       "</style>\n",
       "<table border=\"1\" class=\"dataframe\">\n",
       "  <thead>\n",
       "    <tr style=\"text-align: right;\">\n",
       "      <th></th>\n",
       "      <th>school</th>\n",
       "      <th>sex</th>\n",
       "      <th>age</th>\n",
       "      <th>address</th>\n",
       "      <th>famsize</th>\n",
       "      <th>Pstatus</th>\n",
       "      <th>Medu</th>\n",
       "      <th>Fedu</th>\n",
       "      <th>Mjob</th>\n",
       "      <th>Fjob</th>\n",
       "      <th>...</th>\n",
       "      <th>famrel</th>\n",
       "      <th>freetime</th>\n",
       "      <th>goout</th>\n",
       "      <th>Dalc</th>\n",
       "      <th>Walc</th>\n",
       "      <th>health</th>\n",
       "      <th>absences</th>\n",
       "      <th>G1</th>\n",
       "      <th>G2</th>\n",
       "      <th>G3</th>\n",
       "    </tr>\n",
       "  </thead>\n",
       "  <tbody>\n",
       "    <tr>\n",
       "      <th>0</th>\n",
       "      <td>GP</td>\n",
       "      <td>F</td>\n",
       "      <td>18</td>\n",
       "      <td>U</td>\n",
       "      <td>GT3</td>\n",
       "      <td>A</td>\n",
       "      <td>4</td>\n",
       "      <td>4</td>\n",
       "      <td>at_home</td>\n",
       "      <td>teacher</td>\n",
       "      <td>...</td>\n",
       "      <td>4</td>\n",
       "      <td>3</td>\n",
       "      <td>4</td>\n",
       "      <td>1</td>\n",
       "      <td>1</td>\n",
       "      <td>3</td>\n",
       "      <td>4</td>\n",
       "      <td>0</td>\n",
       "      <td>11</td>\n",
       "      <td>11</td>\n",
       "    </tr>\n",
       "    <tr>\n",
       "      <th>1</th>\n",
       "      <td>GP</td>\n",
       "      <td>F</td>\n",
       "      <td>17</td>\n",
       "      <td>U</td>\n",
       "      <td>GT3</td>\n",
       "      <td>T</td>\n",
       "      <td>1</td>\n",
       "      <td>1</td>\n",
       "      <td>at_home</td>\n",
       "      <td>other</td>\n",
       "      <td>...</td>\n",
       "      <td>5</td>\n",
       "      <td>3</td>\n",
       "      <td>3</td>\n",
       "      <td>1</td>\n",
       "      <td>1</td>\n",
       "      <td>3</td>\n",
       "      <td>2</td>\n",
       "      <td>9</td>\n",
       "      <td>11</td>\n",
       "      <td>11</td>\n",
       "    </tr>\n",
       "    <tr>\n",
       "      <th>2</th>\n",
       "      <td>GP</td>\n",
       "      <td>F</td>\n",
       "      <td>15</td>\n",
       "      <td>U</td>\n",
       "      <td>LE3</td>\n",
       "      <td>T</td>\n",
       "      <td>1</td>\n",
       "      <td>1</td>\n",
       "      <td>at_home</td>\n",
       "      <td>other</td>\n",
       "      <td>...</td>\n",
       "      <td>4</td>\n",
       "      <td>3</td>\n",
       "      <td>2</td>\n",
       "      <td>2</td>\n",
       "      <td>3</td>\n",
       "      <td>3</td>\n",
       "      <td>6</td>\n",
       "      <td>12</td>\n",
       "      <td>13</td>\n",
       "      <td>12</td>\n",
       "    </tr>\n",
       "    <tr>\n",
       "      <th>3</th>\n",
       "      <td>GP</td>\n",
       "      <td>F</td>\n",
       "      <td>15</td>\n",
       "      <td>U</td>\n",
       "      <td>GT3</td>\n",
       "      <td>T</td>\n",
       "      <td>4</td>\n",
       "      <td>2</td>\n",
       "      <td>health</td>\n",
       "      <td>services</td>\n",
       "      <td>...</td>\n",
       "      <td>3</td>\n",
       "      <td>2</td>\n",
       "      <td>2</td>\n",
       "      <td>1</td>\n",
       "      <td>1</td>\n",
       "      <td>5</td>\n",
       "      <td>0</td>\n",
       "      <td>14</td>\n",
       "      <td>14</td>\n",
       "      <td>14</td>\n",
       "    </tr>\n",
       "    <tr>\n",
       "      <th>4</th>\n",
       "      <td>GP</td>\n",
       "      <td>F</td>\n",
       "      <td>16</td>\n",
       "      <td>U</td>\n",
       "      <td>GT3</td>\n",
       "      <td>T</td>\n",
       "      <td>3</td>\n",
       "      <td>3</td>\n",
       "      <td>other</td>\n",
       "      <td>other</td>\n",
       "      <td>...</td>\n",
       "      <td>4</td>\n",
       "      <td>3</td>\n",
       "      <td>2</td>\n",
       "      <td>1</td>\n",
       "      <td>2</td>\n",
       "      <td>5</td>\n",
       "      <td>0</td>\n",
       "      <td>11</td>\n",
       "      <td>13</td>\n",
       "      <td>13</td>\n",
       "    </tr>\n",
       "  </tbody>\n",
       "</table>\n",
       "<p>5 rows × 33 columns</p>\n",
       "</div>"
      ],
      "text/plain": [
       "  school sex  age address famsize Pstatus  Medu  Fedu     Mjob      Fjob  ...  \\\n",
       "0     GP   F   18       U     GT3       A     4     4  at_home   teacher  ...   \n",
       "1     GP   F   17       U     GT3       T     1     1  at_home     other  ...   \n",
       "2     GP   F   15       U     LE3       T     1     1  at_home     other  ...   \n",
       "3     GP   F   15       U     GT3       T     4     2   health  services  ...   \n",
       "4     GP   F   16       U     GT3       T     3     3    other     other  ...   \n",
       "\n",
       "  famrel freetime  goout  Dalc  Walc health absences  G1  G2  G3  \n",
       "0      4        3      4     1     1      3        4   0  11  11  \n",
       "1      5        3      3     1     1      3        2   9  11  11  \n",
       "2      4        3      2     2     3      3        6  12  13  12  \n",
       "3      3        2      2     1     1      5        0  14  14  14  \n",
       "4      4        3      2     1     2      5        0  11  13  13  \n",
       "\n",
       "[5 rows x 33 columns]"
      ]
     },
     "execution_count": 8,
     "metadata": {},
     "output_type": "execute_result"
    }
   ],
   "source": [
    "student_por_df = pd.read_csv('student-por.csv', sep = ';')\n",
    "student_por_df.head()"
   ]
  },
  {
   "cell_type": "code",
   "execution_count": 10,
   "metadata": {},
   "outputs": [
    {
     "data": {
      "text/plain": [
       "count    649.000000\n",
       "mean      11.906009\n",
       "std        3.230656\n",
       "min        0.000000\n",
       "25%       10.000000\n",
       "50%       12.000000\n",
       "75%       14.000000\n",
       "max       19.000000\n",
       "Name: G3, dtype: float64"
      ]
     },
     "execution_count": 10,
     "metadata": {},
     "output_type": "execute_result"
    }
   ],
   "source": [
    "student_por_df['G3'].describe()"
   ]
  },
  {
   "cell_type": "code",
   "execution_count": 11,
   "metadata": {},
   "outputs": [
    {
     "data": {
      "text/plain": [
       "(649, 33)"
      ]
     },
     "execution_count": 11,
     "metadata": {},
     "output_type": "execute_result"
    }
   ],
   "source": [
    "student_por_df.shape"
   ]
  },
  {
   "cell_type": "code",
   "execution_count": 12,
   "metadata": {},
   "outputs": [
    {
     "data": {
      "image/png": "[encoded data removed]",
      "text/plain": [
       "<Figure size 432x288 with 1 Axes>"
      ]
     },
     "metadata": {
      "needs_background": "light"
     },
     "output_type": "display_data"
    }
   ],
   "source": [
    "plt.plot(sorted(student_por_df['G3']))\n",
    "plt.title(\"Final Grade Distribution\")\n",
    "plt.grid()"
   ]
  },
  {
   "cell_type": "code",
   "execution_count": 15,
   "metadata": {},
   "outputs": [
    {
     "data": {
      "text/html": [
       "<div>\n",
       "<style scoped>\n",
       "    .dataframe tbody tr th:only-of-type {\n",
       "        vertical-align: middle;\n",
       "    }\n",
       "\n",
       "    .dataframe tbody tr th {\n",
       "        vertical-align: top;\n",
       "    }\n",
       "\n",
       "    .dataframe thead th {\n",
       "        text-align: right;\n",
       "    }\n",
       "</style>\n",
       "<table border=\"1\" class=\"dataframe\">\n",
       "  <thead>\n",
       "    <tr style=\"text-align: right;\">\n",
       "      <th></th>\n",
       "      <th>school</th>\n",
       "      <th>sex</th>\n",
       "      <th>age</th>\n",
       "      <th>address</th>\n",
       "      <th>famsize</th>\n",
       "      <th>Pstatus</th>\n",
       "      <th>Medu</th>\n",
       "      <th>Fedu</th>\n",
       "      <th>Mjob</th>\n",
       "      <th>Fjob</th>\n",
       "      <th>...</th>\n",
       "      <th>famrel</th>\n",
       "      <th>freetime</th>\n",
       "      <th>goout</th>\n",
       "      <th>Dalc</th>\n",
       "      <th>Walc</th>\n",
       "      <th>health</th>\n",
       "      <th>absences</th>\n",
       "      <th>G1</th>\n",
       "      <th>G2</th>\n",
       "      <th>G3</th>\n",
       "    </tr>\n",
       "  </thead>\n",
       "  <tbody>\n",
       "    <tr>\n",
       "      <th>0</th>\n",
       "      <td>GP</td>\n",
       "      <td>F</td>\n",
       "      <td>18</td>\n",
       "      <td>U</td>\n",
       "      <td>GT3</td>\n",
       "      <td>A</td>\n",
       "      <td>4</td>\n",
       "      <td>4</td>\n",
       "      <td>at_home</td>\n",
       "      <td>teacher</td>\n",
       "      <td>...</td>\n",
       "      <td>4</td>\n",
       "      <td>3</td>\n",
       "      <td>4</td>\n",
       "      <td>1</td>\n",
       "      <td>1</td>\n",
       "      <td>3</td>\n",
       "      <td>6</td>\n",
       "      <td>5</td>\n",
       "      <td>6</td>\n",
       "      <td>6</td>\n",
       "    </tr>\n",
       "    <tr>\n",
       "      <th>1</th>\n",
       "      <td>GP</td>\n",
       "      <td>F</td>\n",
       "      <td>17</td>\n",
       "      <td>U</td>\n",
       "      <td>GT3</td>\n",
       "      <td>T</td>\n",
       "      <td>1</td>\n",
       "      <td>1</td>\n",
       "      <td>at_home</td>\n",
       "      <td>other</td>\n",
       "      <td>...</td>\n",
       "      <td>5</td>\n",
       "      <td>3</td>\n",
       "      <td>3</td>\n",
       "      <td>1</td>\n",
       "      <td>1</td>\n",
       "      <td>3</td>\n",
       "      <td>4</td>\n",
       "      <td>5</td>\n",
       "      <td>5</td>\n",
       "      <td>6</td>\n",
       "    </tr>\n",
       "    <tr>\n",
       "      <th>2</th>\n",
       "      <td>GP</td>\n",
       "      <td>F</td>\n",
       "      <td>15</td>\n",
       "      <td>U</td>\n",
       "      <td>LE3</td>\n",
       "      <td>T</td>\n",
       "      <td>1</td>\n",
       "      <td>1</td>\n",
       "      <td>at_home</td>\n",
       "      <td>other</td>\n",
       "      <td>...</td>\n",
       "      <td>4</td>\n",
       "      <td>3</td>\n",
       "      <td>2</td>\n",
       "      <td>2</td>\n",
       "      <td>3</td>\n",
       "      <td>3</td>\n",
       "      <td>10</td>\n",
       "      <td>7</td>\n",
       "      <td>8</td>\n",
       "      <td>10</td>\n",
       "    </tr>\n",
       "    <tr>\n",
       "      <th>3</th>\n",
       "      <td>GP</td>\n",
       "      <td>F</td>\n",
       "      <td>15</td>\n",
       "      <td>U</td>\n",
       "      <td>GT3</td>\n",
       "      <td>T</td>\n",
       "      <td>4</td>\n",
       "      <td>2</td>\n",
       "      <td>health</td>\n",
       "      <td>services</td>\n",
       "      <td>...</td>\n",
       "      <td>3</td>\n",
       "      <td>2</td>\n",
       "      <td>2</td>\n",
       "      <td>1</td>\n",
       "      <td>1</td>\n",
       "      <td>5</td>\n",
       "      <td>2</td>\n",
       "      <td>15</td>\n",
       "      <td>14</td>\n",
       "      <td>15</td>\n",
       "    </tr>\n",
       "    <tr>\n",
       "      <th>4</th>\n",
       "      <td>GP</td>\n",
       "      <td>F</td>\n",
       "      <td>16</td>\n",
       "      <td>U</td>\n",
       "      <td>GT3</td>\n",
       "      <td>T</td>\n",
       "      <td>3</td>\n",
       "      <td>3</td>\n",
       "      <td>other</td>\n",
       "      <td>other</td>\n",
       "      <td>...</td>\n",
       "      <td>4</td>\n",
       "      <td>3</td>\n",
       "      <td>2</td>\n",
       "      <td>1</td>\n",
       "      <td>2</td>\n",
       "      <td>5</td>\n",
       "      <td>4</td>\n",
       "      <td>6</td>\n",
       "      <td>10</td>\n",
       "      <td>10</td>\n",
       "    </tr>\n",
       "  </tbody>\n",
       "</table>\n",
       "<p>5 rows × 33 columns</p>\n",
       "</div>"
      ],
      "text/plain": [
       "  school sex  age address famsize Pstatus  Medu  Fedu     Mjob      Fjob  ...  \\\n",
       "0     GP   F   18       U     GT3       A     4     4  at_home   teacher  ...   \n",
       "1     GP   F   17       U     GT3       T     1     1  at_home     other  ...   \n",
       "2     GP   F   15       U     LE3       T     1     1  at_home     other  ...   \n",
       "3     GP   F   15       U     GT3       T     4     2   health  services  ...   \n",
       "4     GP   F   16       U     GT3       T     3     3    other     other  ...   \n",
       "\n",
       "  famrel freetime  goout  Dalc  Walc health absences  G1  G2  G3  \n",
       "0      4        3      4     1     1      3        6   5   6   6  \n",
       "1      5        3      3     1     1      3        4   5   5   6  \n",
       "2      4        3      2     2     3      3       10   7   8  10  \n",
       "3      3        2      2     1     1      5        2  15  14  15  \n",
       "4      4        3      2     1     2      5        4   6  10  10  \n",
       "\n",
       "[5 rows x 33 columns]"
      ]
     },
     "execution_count": 15,
     "metadata": {},
     "output_type": "execute_result"
    }
   ],
   "source": [
    "student_math_df = pd.read_csv('student-mat.csv', sep = ';')\n",
    "student_math_df.head()"
   ]
  },
  {
   "cell_type": "code",
   "execution_count": 18,
   "metadata": {},
   "outputs": [
    {
     "data": {
      "text/plain": [
       "count    395.000000\n",
       "mean      10.415190\n",
       "std        4.581443\n",
       "min        0.000000\n",
       "25%        8.000000\n",
       "50%       11.000000\n",
       "75%       14.000000\n",
       "max       20.000000\n",
       "Name: G3, dtype: float64"
      ]
     },
     "execution_count": 18,
     "metadata": {},
     "output_type": "execute_result"
    }
   ],
   "source": [
    "student_math_df['G3'].describe()"
   ]
  },
  {
   "cell_type": "code",
   "execution_count": 19,
   "metadata": {},
   "outputs": [
    {
     "data": {
      "text/plain": [
       "(395, 33)"
      ]
     },
     "execution_count": 19,
     "metadata": {},
     "output_type": "execute_result"
    }
   ],
   "source": [
    "student_math_df.shape"
   ]
  },
  {
   "cell_type": "code",
   "execution_count": 20,
   "metadata": {},
   "outputs": [
    {
     "data": {
      "image/png": "[encoded data removed]",
      "text/plain": [
       "<Figure size 432x288 with 1 Axes>"
      ]
     },
     "metadata": {
      "needs_background": "light"
     },
     "output_type": "display_data"
    }
   ],
   "source": [
    "plt.plot(sorted(student_math_df['G3']))\n",
    "plt.title('Final grades distibution')\n",
    "plt.grid()\n",
    "plt.show()"
   ]
  },
  {
   "cell_type": "markdown",
   "metadata": {},
   "source": [
    "### We are going to use math data becuase it has less number of rows, to be a good model our model should be trained with larger data so with \n",
    "### Stick with portuges data"
   ]
  },
  {
   "cell_type": "markdown",
   "metadata": {},
   "source": [
    "# Exploration and Feature Engineering"
   ]
  },
  {
   "cell_type": "code",
   "execution_count": 23,
   "metadata": {},
   "outputs": [
    {
     "name": "stdout",
     "output_type": "stream",
     "text": [
      "school : {'GP', 'MS'}\n",
      "sex : {'F', 'M'}\n",
      "address : {'U', 'R'}\n",
      "famsize : {'GT3', 'LE3'}\n",
      "Pstatus : {'T', 'A'}\n",
      "Mjob : {'teacher', 'at_home', 'other', 'health', 'services'}\n",
      "Fjob : {'at_home', 'teacher', 'health', 'other', 'services'}\n",
      "reason : {'course', 'reputation', 'other', 'home'}\n",
      "guardian : {'mother', 'other', 'father'}\n",
      "schoolsup : {'no', 'yes'}\n",
      "famsup : {'no', 'yes'}\n",
      "paid : {'no', 'yes'}\n",
      "activities : {'no', 'yes'}\n",
      "nursery : {'no', 'yes'}\n",
      "higher : {'no', 'yes'}\n",
      "internet : {'no', 'yes'}\n",
      "romantic : {'no', 'yes'}\n"
     ]
    }
   ],
   "source": [
    "# Find all non numerical data\n",
    "non_numeric_features = [feat for feat in list(student_por_df) if feat not in list(student_por_df._get_numeric_data())]\n",
    "for feat in non_numeric_features:\n",
    "    print(feat, ':', set(student_por_df[feat]))"
   ]
  },
  {
   "cell_type": "code",
   "execution_count": 39,
   "metadata": {},
   "outputs": [],
   "source": [
    "# Break this out in their seperate columns\n"
   ]
  },
  {
   "cell_type": "code",
   "execution_count": 28,
   "metadata": {},
   "outputs": [],
   "source": [
    "for feat in non_numeric_features:\n",
    "    dummies = pd.get_dummies(student_por_df[feat]).rename(columns=lambda x: feat + '_' + str(x))\n",
    "    student_por_df = pd.concat([student_por_df, dummies], axis=1)\n",
    "    \n",
    "student_por_df = student_por_df[[feat for feat in list(student_por_df) if feat not in non_numeric_features]]"
   ]
  },
  {
   "cell_type": "code",
   "execution_count": 30,
   "metadata": {},
   "outputs": [
    {
     "data": {
      "text/plain": [
       "(649, 59)"
      ]
     },
     "execution_count": 30,
     "metadata": {},
     "output_type": "execute_result"
    }
   ],
   "source": [
    "student_por_df.shape"
   ]
  },
  {
   "cell_type": "code",
   "execution_count": 31,
   "metadata": {},
   "outputs": [
    {
     "data": {
      "text/html": [
       "<div>\n",
       "<style scoped>\n",
       "    .dataframe tbody tr th:only-of-type {\n",
       "        vertical-align: middle;\n",
       "    }\n",
       "\n",
       "    .dataframe tbody tr th {\n",
       "        vertical-align: top;\n",
       "    }\n",
       "\n",
       "    .dataframe thead th {\n",
       "        text-align: right;\n",
       "    }\n",
       "</style>\n",
       "<table border=\"1\" class=\"dataframe\">\n",
       "  <thead>\n",
       "    <tr style=\"text-align: right;\">\n",
       "      <th></th>\n",
       "      <th>age</th>\n",
       "      <th>Medu</th>\n",
       "      <th>Fedu</th>\n",
       "      <th>traveltime</th>\n",
       "      <th>studytime</th>\n",
       "      <th>failures</th>\n",
       "      <th>famrel</th>\n",
       "      <th>freetime</th>\n",
       "      <th>goout</th>\n",
       "      <th>Dalc</th>\n",
       "      <th>...</th>\n",
       "      <th>activities_no</th>\n",
       "      <th>activities_yes</th>\n",
       "      <th>nursery_no</th>\n",
       "      <th>nursery_yes</th>\n",
       "      <th>higher_no</th>\n",
       "      <th>higher_yes</th>\n",
       "      <th>internet_no</th>\n",
       "      <th>internet_yes</th>\n",
       "      <th>romantic_no</th>\n",
       "      <th>romantic_yes</th>\n",
       "    </tr>\n",
       "  </thead>\n",
       "  <tbody>\n",
       "    <tr>\n",
       "      <th>0</th>\n",
       "      <td>18</td>\n",
       "      <td>4</td>\n",
       "      <td>4</td>\n",
       "      <td>2</td>\n",
       "      <td>2</td>\n",
       "      <td>0</td>\n",
       "      <td>4</td>\n",
       "      <td>3</td>\n",
       "      <td>4</td>\n",
       "      <td>1</td>\n",
       "      <td>...</td>\n",
       "      <td>1</td>\n",
       "      <td>0</td>\n",
       "      <td>0</td>\n",
       "      <td>1</td>\n",
       "      <td>0</td>\n",
       "      <td>1</td>\n",
       "      <td>1</td>\n",
       "      <td>0</td>\n",
       "      <td>1</td>\n",
       "      <td>0</td>\n",
       "    </tr>\n",
       "    <tr>\n",
       "      <th>1</th>\n",
       "      <td>17</td>\n",
       "      <td>1</td>\n",
       "      <td>1</td>\n",
       "      <td>1</td>\n",
       "      <td>2</td>\n",
       "      <td>0</td>\n",
       "      <td>5</td>\n",
       "      <td>3</td>\n",
       "      <td>3</td>\n",
       "      <td>1</td>\n",
       "      <td>...</td>\n",
       "      <td>1</td>\n",
       "      <td>0</td>\n",
       "      <td>1</td>\n",
       "      <td>0</td>\n",
       "      <td>0</td>\n",
       "      <td>1</td>\n",
       "      <td>0</td>\n",
       "      <td>1</td>\n",
       "      <td>1</td>\n",
       "      <td>0</td>\n",
       "    </tr>\n",
       "    <tr>\n",
       "      <th>2</th>\n",
       "      <td>15</td>\n",
       "      <td>1</td>\n",
       "      <td>1</td>\n",
       "      <td>1</td>\n",
       "      <td>2</td>\n",
       "      <td>0</td>\n",
       "      <td>4</td>\n",
       "      <td>3</td>\n",
       "      <td>2</td>\n",
       "      <td>2</td>\n",
       "      <td>...</td>\n",
       "      <td>1</td>\n",
       "      <td>0</td>\n",
       "      <td>0</td>\n",
       "      <td>1</td>\n",
       "      <td>0</td>\n",
       "      <td>1</td>\n",
       "      <td>0</td>\n",
       "      <td>1</td>\n",
       "      <td>1</td>\n",
       "      <td>0</td>\n",
       "    </tr>\n",
       "    <tr>\n",
       "      <th>3</th>\n",
       "      <td>15</td>\n",
       "      <td>4</td>\n",
       "      <td>2</td>\n",
       "      <td>1</td>\n",
       "      <td>3</td>\n",
       "      <td>0</td>\n",
       "      <td>3</td>\n",
       "      <td>2</td>\n",
       "      <td>2</td>\n",
       "      <td>1</td>\n",
       "      <td>...</td>\n",
       "      <td>0</td>\n",
       "      <td>1</td>\n",
       "      <td>0</td>\n",
       "      <td>1</td>\n",
       "      <td>0</td>\n",
       "      <td>1</td>\n",
       "      <td>0</td>\n",
       "      <td>1</td>\n",
       "      <td>0</td>\n",
       "      <td>1</td>\n",
       "    </tr>\n",
       "    <tr>\n",
       "      <th>4</th>\n",
       "      <td>16</td>\n",
       "      <td>3</td>\n",
       "      <td>3</td>\n",
       "      <td>1</td>\n",
       "      <td>2</td>\n",
       "      <td>0</td>\n",
       "      <td>4</td>\n",
       "      <td>3</td>\n",
       "      <td>2</td>\n",
       "      <td>1</td>\n",
       "      <td>...</td>\n",
       "      <td>1</td>\n",
       "      <td>0</td>\n",
       "      <td>0</td>\n",
       "      <td>1</td>\n",
       "      <td>0</td>\n",
       "      <td>1</td>\n",
       "      <td>1</td>\n",
       "      <td>0</td>\n",
       "      <td>1</td>\n",
       "      <td>0</td>\n",
       "    </tr>\n",
       "  </tbody>\n",
       "</table>\n",
       "<p>5 rows × 59 columns</p>\n",
       "</div>"
      ],
      "text/plain": [
       "   age  Medu  Fedu  traveltime  studytime  failures  famrel  freetime  goout  \\\n",
       "0   18     4     4           2          2         0       4         3      4   \n",
       "1   17     1     1           1          2         0       5         3      3   \n",
       "2   15     1     1           1          2         0       4         3      2   \n",
       "3   15     4     2           1          3         0       3         2      2   \n",
       "4   16     3     3           1          2         0       4         3      2   \n",
       "\n",
       "   Dalc  ...  activities_no  activities_yes  nursery_no  nursery_yes  \\\n",
       "0     1  ...              1               0           0            1   \n",
       "1     1  ...              1               0           1            0   \n",
       "2     2  ...              1               0           0            1   \n",
       "3     1  ...              0               1           0            1   \n",
       "4     1  ...              1               0           0            1   \n",
       "\n",
       "   higher_no  higher_yes  internet_no  internet_yes  romantic_no  romantic_yes  \n",
       "0          0           1            1             0            1             0  \n",
       "1          0           1            0             1            1             0  \n",
       "2          0           1            0             1            1             0  \n",
       "3          0           1            0             1            0             1  \n",
       "4          0           1            1             0            1             0  \n",
       "\n",
       "[5 rows x 59 columns]"
      ]
     },
     "execution_count": 31,
     "metadata": {},
     "output_type": "execute_result"
    }
   ],
   "source": [
    "student_por_df.head()"
   ]
  },
  {
   "cell_type": "markdown",
   "metadata": {},
   "source": [
    "# Modeling with XGBoost"
   ]
  },
  {
   "cell_type": "code",
   "execution_count": 41,
   "metadata": {},
   "outputs": [],
   "source": [
    "# Create an xgboost model\n",
    "# run simple xgboost classification model and check\n",
    "\n",
    "outcome = 'G3'\n",
    "features = [feat for feat in list(student_por_df) if feat not in outcome]\n",
    "from sklearn.model_selection import train_test_split\n",
    "X_train, X_test , y_train, y_test = train_test_split(student_por_df, student_por_df[outcome], test_size = 0.3 , random_state = 42)"
   ]
  },
  {
   "cell_type": "code",
   "execution_count": 46,
   "metadata": {},
   "outputs": [],
   "source": [
    "import xgboost  as xgb\n",
    "xgb_params = {\n",
    "    'eta':0.01,\n",
    "    'max_depth':3,\n",
    "    'subsample':0.7,\n",
    "    'colsample_bytree':0.7,\n",
    "    'objective':'reg:linear',\n",
    "    'seed':0\n",
    "}"
   ]
  },
  {
   "cell_type": "code",
   "execution_count": 49,
   "metadata": {},
   "outputs": [
    {
     "name": "stdout",
     "output_type": "stream",
     "text": [
      "[14:32:01] WARNING: C:/Users/Administrator/workspace/xgboost-win64_release_1.3.0/src/objective/regression_obj.cu:170: reg:linear is now deprecated in favor of reg:squarederror.\n",
      "[0]\ttrain-rmse:11.64971\teval-rmse:11.94302\n",
      "[50]\ttrain-rmse:7.20058\teval-rmse:7.40624\n",
      "[100]\ttrain-rmse:4.50631\teval-rmse:4.63594\n",
      "[150]\ttrain-rmse:2.90725\teval-rmse:2.99138\n",
      "[200]\ttrain-rmse:1.98567\teval-rmse:2.06537\n",
      "[250]\ttrain-rmse:1.47358\teval-rmse:1.56771\n",
      "[300]\ttrain-rmse:1.20603\teval-rmse:1.32743\n",
      "[350]\ttrain-rmse:1.06527\teval-rmse:1.22792\n",
      "[400]\ttrain-rmse:0.98898\teval-rmse:1.19130\n",
      "[450]\ttrain-rmse:0.94039\teval-rmse:1.17599\n",
      "[500]\ttrain-rmse:0.90536\teval-rmse:1.16880\n",
      "[550]\ttrain-rmse:0.87610\teval-rmse:1.16890\n",
      "[600]\ttrain-rmse:0.85171\teval-rmse:1.17095\n",
      "[650]\ttrain-rmse:0.83189\teval-rmse:1.17157\n",
      "[700]\ttrain-rmse:0.81395\teval-rmse:1.17366\n",
      "[750]\ttrain-rmse:0.79626\teval-rmse:1.17288\n",
      "[800]\ttrain-rmse:0.77829\teval-rmse:1.17525\n",
      "[850]\ttrain-rmse:0.76304\teval-rmse:1.17549\n",
      "[900]\ttrain-rmse:0.74792\teval-rmse:1.17686\n",
      "[950]\ttrain-rmse:0.73162\teval-rmse:1.17691\n",
      "[1000]\ttrain-rmse:0.71630\teval-rmse:1.17812\n",
      "[1036]\ttrain-rmse:0.70705\teval-rmse:1.17725\n"
     ]
    }
   ],
   "source": [
    "# xgb wants data int martices\n",
    "dtrain = xgb.DMatrix(X_train[features], y_train, feature_names = features)\n",
    "dtest = xgb.DMatrix(X_test[features], y_test, feature_names = features)\n",
    "evals = [(dtrain, 'train'), (dtest, 'eval')]\n",
    "xgb_model = xgb.train(params = xgb_params, \n",
    "                     dtrain = dtrain,\n",
    "                     num_boost_round = 2000, \n",
    "                     verbose_eval = 50,\n",
    "                     early_stopping_rounds = 500, \n",
    "                     evals = evals,\n",
    "                     maximize = False)"
   ]
  },
  {
   "cell_type": "markdown",
   "metadata": {},
   "source": [
    "# Building an actionable Report"
   ]
  },
  {
   "cell_type": "markdown",
   "metadata": {},
   "source": [
    "### Find poor performing students and find out why they are so compared to their peers\n",
    "### Plot the important figures\n"
   ]
  },
  {
   "cell_type": "code",
   "execution_count": 53,
   "metadata": {},
   "outputs": [
    {
     "data": {
      "image/png": "[encoded data removed]",
      "text/plain": [
       "<Figure size 432x648 with 1 Axes>"
      ]
     },
     "metadata": {
      "needs_background": "light"
     },
     "output_type": "display_data"
    }
   ],
   "source": [
    "fig, ax = plt.subplots(figsize=(6,9))\n",
    "xgb.plot_importance(xgb_model,  height=0.8, ax=ax, max_num_features=20)\n",
    "\n",
    "plt.show()"
   ]
  },
  {
   "cell_type": "code",
   "execution_count": 54,
   "metadata": {},
   "outputs": [
    {
     "data": {
      "text/html": [
       "<div>\n",
       "<style scoped>\n",
       "    .dataframe tbody tr th:only-of-type {\n",
       "        vertical-align: middle;\n",
       "    }\n",
       "\n",
       "    .dataframe tbody tr th {\n",
       "        vertical-align: top;\n",
       "    }\n",
       "\n",
       "    .dataframe thead th {\n",
       "        text-align: right;\n",
       "    }\n",
       "</style>\n",
       "<table border=\"1\" class=\"dataframe\">\n",
       "  <thead>\n",
       "    <tr style=\"text-align: right;\">\n",
       "      <th></th>\n",
       "      <th>feature</th>\n",
       "      <th>importance</th>\n",
       "    </tr>\n",
       "  </thead>\n",
       "  <tbody>\n",
       "    <tr>\n",
       "      <th>0</th>\n",
       "      <td>G2</td>\n",
       "      <td>1245</td>\n",
       "    </tr>\n",
       "    <tr>\n",
       "      <th>1</th>\n",
       "      <td>G1</td>\n",
       "      <td>620</td>\n",
       "    </tr>\n",
       "    <tr>\n",
       "      <th>11</th>\n",
       "      <td>age</td>\n",
       "      <td>375</td>\n",
       "    </tr>\n",
       "    <tr>\n",
       "      <th>8</th>\n",
       "      <td>absences</td>\n",
       "      <td>373</td>\n",
       "    </tr>\n",
       "    <tr>\n",
       "      <th>5</th>\n",
       "      <td>Dalc</td>\n",
       "      <td>366</td>\n",
       "    </tr>\n",
       "    <tr>\n",
       "      <th>15</th>\n",
       "      <td>freetime</td>\n",
       "      <td>266</td>\n",
       "    </tr>\n",
       "    <tr>\n",
       "      <th>13</th>\n",
       "      <td>health</td>\n",
       "      <td>234</td>\n",
       "    </tr>\n",
       "    <tr>\n",
       "      <th>29</th>\n",
       "      <td>goout</td>\n",
       "      <td>220</td>\n",
       "    </tr>\n",
       "    <tr>\n",
       "      <th>38</th>\n",
       "      <td>traveltime</td>\n",
       "      <td>198</td>\n",
       "    </tr>\n",
       "    <tr>\n",
       "      <th>10</th>\n",
       "      <td>famrel</td>\n",
       "      <td>196</td>\n",
       "    </tr>\n",
       "  </tbody>\n",
       "</table>\n",
       "</div>"
      ],
      "text/plain": [
       "       feature  importance\n",
       "0           G2        1245\n",
       "1           G1         620\n",
       "11         age         375\n",
       "8     absences         373\n",
       "5         Dalc         366\n",
       "15    freetime         266\n",
       "13      health         234\n",
       "29       goout         220\n",
       "38  traveltime         198\n",
       "10      famrel         196"
      ]
     },
     "execution_count": 54,
     "metadata": {},
     "output_type": "execute_result"
    }
   ],
   "source": [
    "xgb_fea_imp=pd.DataFrame(list(xgb_model.get_fscore().items()),\n",
    "columns=['feature','importance']).sort_values('importance', ascending=False)\n",
    "xgb_fea_imp.head(10)"
   ]
  },
  {
   "cell_type": "code",
   "execution_count": 55,
   "metadata": {},
   "outputs": [
    {
     "name": "stdout",
     "output_type": "stream",
     "text": [
      "[16.81228  11.550355 17.011883 11.075317 11.513776 16.314234 17.202694\n",
      " 10.227154 10.89279  10.709687]\n"
     ]
    }
   ],
   "source": [
    "print(xgb_model.predict(dtest)[0:10])\n"
   ]
  },
  {
   "cell_type": "code",
   "execution_count": 56,
   "metadata": {},
   "outputs": [
    {
     "data": {
      "text/plain": [
       "['G2',\n",
       " 'G1',\n",
       " 'age',\n",
       " 'absences',\n",
       " 'Dalc',\n",
       " 'freetime',\n",
       " 'health',\n",
       " 'goout',\n",
       " 'traveltime',\n",
       " 'famrel',\n",
       " 'Medu',\n",
       " 'Walc',\n",
       " 'Fedu',\n",
       " 'failures',\n",
       " 'reason_other',\n",
       " 'schoolsup_no',\n",
       " 'studytime',\n",
       " 'Fjob_services',\n",
       " 'Mjob_other',\n",
       " 'Fjob_at_home',\n",
       " 'sex_F',\n",
       " 'famsup_no',\n",
       " 'school_GP',\n",
       " 'guardian_father',\n",
       " 'romantic_no',\n",
       " 'Mjob_services',\n",
       " 'Mjob_teacher',\n",
       " 'famsize_GT3',\n",
       " 'higher_no',\n",
       " 'nursery_no',\n",
       " 'activities_no',\n",
       " 'reason_reputation',\n",
       " 'reason_home',\n",
       " 'internet_no',\n",
       " 'reason_course',\n",
       " 'address_R',\n",
       " 'schoolsup_yes',\n",
       " 'paid_no',\n",
       " 'guardian_mother',\n",
       " 'school_MS']"
      ]
     },
     "execution_count": 56,
     "metadata": {},
     "output_type": "execute_result"
    }
   ],
   "source": [
    "key_features = list(xgb_fea_imp['feature'].values[0:40])\n",
    "key_features"
   ]
  },
  {
   "cell_type": "code",
   "execution_count": 57,
   "metadata": {},
   "outputs": [
    {
     "name": "stdout",
     "output_type": "stream",
     "text": [
      "Student ID: 131\n",
      "\t Below: G2 9 Class: 11.57\n",
      "\t Above: absences 10 Class: 3.66\n",
      "\t Above: goout 5 Class: 3.18\n",
      "\t Above: failures 3 Class: 0.22\n",
      "\t Above: Mjob_services 1 Class: 0.21\n",
      "\t Above: higher_no 1 Class: 0.11\n",
      "\t Above: reason_reputation 1 Class: 0.22\n",
      "Student ID: 81\n",
      "\t Below: G2 9 Class: 11.57\n",
      "\t Below: age 15 Class: 16.74\n",
      "\t Below: schoolsup_no 0 Class: 0.9\n",
      "\t Above: studytime 3 Class: 1.93\n",
      "\t Above: nursery_no 1 Class: 0.2\n",
      "\t Above: reason_home 1 Class: 0.23\n",
      "\t Above: schoolsup_yes 1 Class: 0.1\n",
      "Student ID: 585\n",
      "\t Below: G2 7 Class: 11.57\n",
      "\t Below: G1 8 Class: 11.4\n",
      "\t Below: freetime 2 Class: 3.18\n",
      "\t Above: studytime 3 Class: 1.93\n",
      "\t Above: Fjob_at_home 1 Class: 0.06\n",
      "\t Above: higher_no 1 Class: 0.11\n",
      "\t Above: internet_no 1 Class: 0.23\n",
      "\t Below: paid_no 0 Class: 0.94\n",
      "Student ID: 177\n",
      "\t Below: G2 8 Class: 11.57\n",
      "\t Below: G1 9 Class: 11.4\n",
      "\t Below: Medu 1 Class: 2.51\n",
      "\t Above: Walc 4 Class: 2.28\n",
      "\t Above: failures 1 Class: 0.22\n",
      "\t Above: guardian_father 1 Class: 0.24\n",
      "\t Above: higher_no 1 Class: 0.11\n",
      "Student ID: 174\n",
      "\t Below: G2 8 Class: 11.57\n",
      "\t Below: G1 8 Class: 11.4\n",
      "\t Above: absences 8 Class: 3.66\n",
      "\t Below: famrel 3 Class: 3.93\n",
      "\t Above: failures 1 Class: 0.22\n",
      "\t Above: higher_no 1 Class: 0.11\n",
      "\t Below: paid_no 0 Class: 0.94\n",
      "Student ID: 478\n",
      "\t Below: G2 7 Class: 11.57\n",
      "\t Below: G1 7 Class: 11.4\n",
      "\t Below: health 1 Class: 3.54\n",
      "\t Below: famrel 3 Class: 3.93\n",
      "\t Below: Medu 1 Class: 2.51\n",
      "\t Above: failures 3 Class: 0.22\n",
      "\t Below: schoolsup_no 0 Class: 0.9\n",
      "\t Above: guardian_father 1 Class: 0.24\n",
      "\t Above: internet_no 1 Class: 0.23\n",
      "\t Above: schoolsup_yes 1 Class: 0.1\n",
      "Student ID: 522\n",
      "\t Below: G2 8 Class: 11.57\n",
      "\t Below: G1 8 Class: 11.4\n",
      "\t Above: Fedu 4 Class: 2.31\n",
      "Student ID: 163\n",
      "\t Below: G2 9 Class: 11.57\n",
      "\t Above: goout 5 Class: 3.18\n",
      "\t Below: famrel 2 Class: 3.93\n",
      "\t Below: Medu 1 Class: 2.51\n",
      "\t Above: Walc 5 Class: 2.28\n",
      "\t Above: failures 2 Class: 0.22\n",
      "\t Above: higher_no 1 Class: 0.11\n",
      "Student ID: 570\n",
      "\t Below: G2 8 Class: 11.57\n",
      "\t Below: G1 7 Class: 11.4\n",
      "\t Above: Walc 4 Class: 2.28\n",
      "\t Above: Mjob_services 1 Class: 0.21\n",
      "Student ID: 257\n",
      "\t Below: G2 8 Class: 11.57\n",
      "\t Below: freetime 2 Class: 3.18\n",
      "\t Below: goout 1 Class: 3.18\n",
      "\t Above: Fedu 4 Class: 2.31\n",
      "\t Above: Mjob_teacher 1 Class: 0.11\n",
      "\t Above: nursery_no 1 Class: 0.2\n",
      "Student ID: 148\n",
      "\t Below: G2 9 Class: 11.57\n",
      "\t Below: G1 8 Class: 11.4\n",
      "\t Below: age 15 Class: 16.74\n",
      "\t Above: freetime 5 Class: 3.18\n",
      "\t Below: health 1 Class: 3.54\n",
      "\t Above: goout 5 Class: 3.18\n",
      "\t Above: traveltime 3 Class: 1.57\n",
      "\t Below: Medu 1 Class: 2.51\n",
      "\t Above: failures 1 Class: 0.22\n",
      "Student ID: 447\n",
      "\t Below: G1 8 Class: 11.4\n",
      "\t Above: absences 8 Class: 3.66\n",
      "\t Above: Dalc 5 Class: 1.5\n",
      "\t Above: freetime 5 Class: 3.18\n",
      "\t Above: goout 5 Class: 3.18\n",
      "\t Above: traveltime 3 Class: 1.57\n",
      "\t Above: Walc 5 Class: 2.28\n",
      "\t Above: reason_other 1 Class: 0.11\n",
      "\t Above: higher_no 1 Class: 0.11\n",
      "\t Above: internet_no 1 Class: 0.23\n",
      "Student ID: 518\n",
      "\t Below: G2 5 Class: 11.57\n",
      "\t Below: G1 8 Class: 11.4\n",
      "\t Above: absences 8 Class: 3.66\n",
      "\t Below: health 1 Class: 3.54\n",
      "\t Below: famrel 2 Class: 3.93\n",
      "\t Above: Fedu 4 Class: 2.31\n",
      "\t Above: failures 1 Class: 0.22\n",
      "\t Above: guardian_father 1 Class: 0.24\n",
      "\t Above: reason_reputation 1 Class: 0.22\n",
      "Student ID: 603\n",
      "\t Below: G2 0 Class: 11.57\n",
      "\t Below: G1 5 Class: 11.4\n",
      "\t Below: goout 1 Class: 3.18\n",
      "\t Above: Mjob_teacher 1 Class: 0.11\n",
      "\t Above: reason_reputation 1 Class: 0.22\n",
      "Student ID: 514\n",
      "\t Below: G2 6 Class: 11.57\n",
      "\t Below: G1 7 Class: 11.4\n",
      "\t Below: freetime 1 Class: 3.18\n",
      "\t Below: famrel 3 Class: 3.93\n",
      "\t Above: Walc 4 Class: 2.28\n",
      "\t Above: Fjob_at_home 1 Class: 0.06\n",
      "\t Above: Mjob_services 1 Class: 0.21\n",
      "Student ID: 568\n",
      "\t Below: G1 6 Class: 11.4\n",
      "\t Above: age 19 Class: 16.74\n",
      "\t Below: freetime 2 Class: 3.18\n",
      "\t Below: goout 1 Class: 3.18\n",
      "\t Below: famrel 3 Class: 3.93\n",
      "\t Above: failures 3 Class: 0.22\n",
      "\t Above: internet_no 1 Class: 0.23\n",
      "Student ID: 440\n",
      "\t Below: G2 0 Class: 11.57\n",
      "\t Below: G1 7 Class: 11.4\n",
      "\t Above: Dalc 4 Class: 1.5\n",
      "\t Above: goout 5 Class: 3.18\n",
      "\t Below: Medu 1 Class: 2.51\n",
      "\t Above: Walc 5 Class: 2.28\n",
      "\t Above: reason_home 1 Class: 0.23\n",
      "\t Above: internet_no 1 Class: 0.23\n",
      "Student ID: 443\n",
      "\t Below: G2 9 Class: 11.57\n",
      "\t Below: G1 7 Class: 11.4\n",
      "\t Below: age 15 Class: 16.74\n",
      "\t Above: absences 7 Class: 3.66\n",
      "\t Above: guardian_father 1 Class: 0.24\n",
      "\t Above: reason_reputation 1 Class: 0.22\n",
      "Student ID: 155\n",
      "\t Below: G2 7 Class: 11.57\n",
      "\t Below: G1 9 Class: 11.4\n",
      "\t Above: absences 22 Class: 3.66\n",
      "\t Above: goout 5 Class: 3.18\n",
      "\t Above: reason_home 1 Class: 0.23\n",
      "Student ID: 248\n",
      "\t Below: G2 9 Class: 11.57\n",
      "\t Below: G1 9 Class: 11.4\n",
      "\t Below: famrel 3 Class: 3.93\n",
      "\t Below: Medu 1 Class: 2.51\n",
      "\t Above: reason_home 1 Class: 0.23\n",
      "Student ID: 494\n",
      "\t Below: G2 9 Class: 11.57\n",
      "\t Below: G1 8 Class: 11.4\n",
      "\t Above: goout 5 Class: 3.18\n",
      "\t Below: Medu 1 Class: 2.51\n",
      "\t Above: higher_no 1 Class: 0.11\n",
      "Student ID: 563\n",
      "\t Below: G2 0 Class: 11.57\n",
      "\t Below: G1 7 Class: 11.4\n",
      "\t Below: freetime 2 Class: 3.18\n",
      "\t Below: goout 1 Class: 3.18\n",
      "\t Below: famrel 1 Class: 3.93\n",
      "\t Above: failures 1 Class: 0.22\n",
      "\t Above: internet_no 1 Class: 0.23\n",
      "Student ID: 432\n",
      "\t Below: G2 6 Class: 11.57\n",
      "\t Below: G1 6 Class: 11.4\n",
      "\t Below: Medu 1 Class: 2.51\n",
      "\t Above: failures 1 Class: 0.22\n",
      "\t Above: reason_other 1 Class: 0.11\n",
      "\t Above: guardian_father 1 Class: 0.24\n",
      "\t Above: higher_no 1 Class: 0.11\n",
      "\t Above: nursery_no 1 Class: 0.2\n",
      "Student ID: 583\n",
      "\t Below: G2 6 Class: 11.57\n",
      "\t Below: G1 8 Class: 11.4\n",
      "\t Above: freetime 5 Class: 3.18\n",
      "\t Above: goout 5 Class: 3.18\n",
      "\t Above: failures 1 Class: 0.22\n",
      "\t Above: reason_other 1 Class: 0.11\n",
      "\t Above: higher_no 1 Class: 0.11\n",
      "Student ID: 370\n",
      "\t Below: G2 8 Class: 11.57\n",
      "\t Below: G1 8 Class: 11.4\n",
      "\t Above: age 19 Class: 16.74\n",
      "\t Above: traveltime 3 Class: 1.57\n",
      "\t Below: Medu 1 Class: 2.51\n",
      "\t Above: failures 2 Class: 0.22\n",
      "\t Above: nursery_no 1 Class: 0.2\n",
      "Student ID: 256\n",
      "\t Below: G2 8 Class: 11.57\n",
      "\t Below: G1 7 Class: 11.4\n",
      "\t Above: absences 26 Class: 3.66\n",
      "\t Below: health 1 Class: 3.54\n",
      "\t Above: failures 1 Class: 0.22\n",
      "\t Above: Fjob_at_home 1 Class: 0.06\n",
      "\t Above: higher_no 1 Class: 0.11\n",
      "\t Above: nursery_no 1 Class: 0.2\n"
     ]
    }
   ],
   "source": [
    "# Take students with a predicted final score of less than 10 over 20\n",
    "predicted_students_in_trouble = X_test[X_test['G3'] < 10]\n",
    "\n",
    "# See which feature they landed well below or well above peers\n",
    "for index, row in predicted_students_in_trouble.iterrows():\n",
    "    print('Student ID:', index)\n",
    "    for feat in key_features:\n",
    "        if row[feat] < student_por_df[feat].quantile(0.25):\n",
    "            print('\\t', 'Below:', feat, row[feat], 'Class:', \n",
    "                  np.round(np.mean(student_por_df[feat]),2))\n",
    "        if row[feat] > student\n",
    "        _por_df[feat].quantile(0.75):\n",
    "            print('\\t','Above:', feat, row[feat], 'Class:', \n",
    "                  np.round(np.mean(student_por_df[feat]),2))"
   ]
  },
  {
   "cell_type": "markdown",
   "metadata": {},
   "source": [
    "# Let's create a better looking report to share our findings"
   ]
  },
  {
   "cell_type": "code",
   "execution_count": 58,
   "metadata": {},
   "outputs": [
    {
     "name": "stdout",
     "output_type": "stream",
     "text": [
      "Student ID: 131\n"
     ]
    },
    {
     "data": {
      "image/png": "[encoded data removed]",
      "text/plain": [
       "<Figure size 442.25x360 with 1 Axes>"
      ]
     },
     "metadata": {
      "needs_background": "light"
     },
     "output_type": "display_data"
    },
    {
     "name": "stdout",
     "output_type": "stream",
     "text": [
      "Student ID: 81\n"
     ]
    },
    {
     "data": {
      "image/png": "[encoded data removed]",
      "text/plain": [
       "<Figure size 442.25x360 with 1 Axes>"
      ]
     },
     "metadata": {
      "needs_background": "light"
     },
     "output_type": "display_data"
    },
    {
     "name": "stdout",
     "output_type": "stream",
     "text": [
      "Student ID: 585\n"
     ]
    },
    {
     "data": {
      "image/png": "[encoded data removed]",
      "text/plain": [
       "<Figure size 442.25x360 with 1 Axes>"
      ]
     },
     "metadata": {
      "needs_background": "light"
     },
     "output_type": "display_data"
    },
    {
     "name": "stdout",
     "output_type": "stream",
     "text": [
      "Student ID: 177\n"
     ]
    },
    {
     "data": {
      "image/png": "[encoded data removed]",
      "text/plain": [
       "<Figure size 442.25x360 with 1 Axes>"
      ]
     },
     "metadata": {
      "needs_background": "light"
     },
     "output_type": "display_data"
    },
    {
     "name": "stdout",
     "output_type": "stream",
     "text": [
      "Student ID: 174\n"
     ]
    },
    {
     "data": {
      "image/png": "[encoded data removed]",
      "text/plain": [
       "<Figure size 442.25x360 with 1 Axes>"
      ]
     },
     "metadata": {
      "needs_background": "light"
     },
     "output_type": "display_data"
    },
    {
     "name": "stdout",
     "output_type": "stream",
     "text": [
      "Student ID: 478\n"
     ]
    },
    {
     "data": {
      "image/png": "[encoded data removed]",
      "text/plain": [
       "<Figure size 442.25x360 with 1 Axes>"
      ]
     },
     "metadata": {
      "needs_background": "light"
     },
     "output_type": "display_data"
    },
    {
     "name": "stdout",
     "output_type": "stream",
     "text": [
      "Student ID: 522\n"
     ]
    },
    {
     "data": {
      "image/png": "[encoded data removed]",
      "text/plain": [
       "<Figure size 442.25x360 with 1 Axes>"
      ]
     },
     "metadata": {
      "needs_background": "light"
     },
     "output_type": "display_data"
    },
    {
     "name": "stdout",
     "output_type": "stream",
     "text": [
      "Student ID: 163\n"
     ]
    },
    {
     "data": {
      "image/png": "[encoded data removed]",
      "text/plain": [
       "<Figure size 442.25x360 with 1 Axes>"
      ]
     },
     "metadata": {
      "needs_background": "light"
     },
     "output_type": "display_data"
    },
    {
     "name": "stdout",
     "output_type": "stream",
     "text": [
      "Student ID: 570\n"
     ]
    },
    {
     "data": {
      "image/png": "[encoded data removed]",
      "text/plain": [
       "<Figure size 442.25x360 with 1 Axes>"
      ]
     },
     "metadata": {
      "needs_background": "light"
     },
     "output_type": "display_data"
    },
    {
     "name": "stdout",
     "output_type": "stream",
     "text": [
      "Student ID: 257\n"
     ]
    },
    {
     "data": {
      "image/png": "[encoded data removed]",
      "text/plain": [
       "<Figure size 442.25x360 with 1 Axes>"
      ]
     },
     "metadata": {
      "needs_background": "light"
     },
     "output_type": "display_data"
    },
    {
     "name": "stdout",
     "output_type": "stream",
     "text": [
      "Student ID: 148\n"
     ]
    },
    {
     "data": {
      "image/png": "[encoded data removed]",
      "text/plain": [
       "<Figure size 442.25x360 with 1 Axes>"
      ]
     },
     "metadata": {
      "needs_background": "light"
     },
     "output_type": "display_data"
    },
    {
     "name": "stdout",
     "output_type": "stream",
     "text": [
      "Student ID: 447\n"
     ]
    },
    {
     "data": {
      "image/png": "[encoded data removed]",
      "text/plain": [
       "<Figure size 442.25x360 with 1 Axes>"
      ]
     },
     "metadata": {
      "needs_background": "light"
     },
     "output_type": "display_data"
    },
    {
     "name": "stdout",
     "output_type": "stream",
     "text": [
      "Student ID: 518\n"
     ]
    },
    {
     "data": {
      "image/png": "[encoded data removed]",
      "text/plain": [
       "<Figure size 442.25x360 with 1 Axes>"
      ]
     },
     "metadata": {
      "needs_background": "light"
     },
     "output_type": "display_data"
    },
    {
     "name": "stdout",
     "output_type": "stream",
     "text": [
      "Student ID: 603\n"
     ]
    },
    {
     "data": {
      "image/png": "[encoded data removed]",
      "text/plain": [
       "<Figure size 442.25x360 with 1 Axes>"
      ]
     },
     "metadata": {
      "needs_background": "light"
     },
     "output_type": "display_data"
    },
    {
     "name": "stdout",
     "output_type": "stream",
     "text": [
      "Student ID: 514\n"
     ]
    },
    {
     "data": {
      "image/png": "[encoded data removed]",
      "text/plain": [
       "<Figure size 442.25x360 with 1 Axes>"
      ]
     },
     "metadata": {
      "needs_background": "light"
     },
     "output_type": "display_data"
    },
    {
     "name": "stdout",
     "output_type": "stream",
     "text": [
      "Student ID: 568\n"
     ]
    },
    {
     "data": {
      "image/png": "[encoded data removed]",
      "text/plain": [
       "<Figure size 442.25x360 with 1 Axes>"
      ]
     },
     "metadata": {
      "needs_background": "light"
     },
     "output_type": "display_data"
    },
    {
     "name": "stdout",
     "output_type": "stream",
     "text": [
      "Student ID: 440\n"
     ]
    },
    {
     "data": {
      "image/png": "[encoded data removed]",
      "text/plain": [
       "<Figure size 442.25x360 with 1 Axes>"
      ]
     },
     "metadata": {
      "needs_background": "light"
     },
     "output_type": "display_data"
    },
    {
     "name": "stdout",
     "output_type": "stream",
     "text": [
      "Student ID: 443\n"
     ]
    },
    {
     "data": {
      "image/png": "[encoded data removed]",
      "text/plain": [
       "<Figure size 442.25x360 with 1 Axes>"
      ]
     },
     "metadata": {
      "needs_background": "light"
     },
     "output_type": "display_data"
    },
    {
     "name": "stdout",
     "output_type": "stream",
     "text": [
      "Student ID: 155\n"
     ]
    },
    {
     "data": {
      "image/png": "[encoded data removed]",
      "text/plain": [
       "<Figure size 442.25x360 with 1 Axes>"
      ]
     },
     "metadata": {
      "needs_background": "light"
     },
     "output_type": "display_data"
    },
    {
     "name": "stdout",
     "output_type": "stream",
     "text": [
      "Student ID: 248\n"
     ]
    },
    {
     "data": {
      "image/png": "[encoded data removed]",
      "text/plain": [
       "<Figure size 442.25x360 with 1 Axes>"
      ]
     },
     "metadata": {
      "needs_background": "light"
     },
     "output_type": "display_data"
    },
    {
     "name": "stdout",
     "output_type": "stream",
     "text": [
      "Student ID: 494\n"
     ]
    },
    {
     "data": {
      "image/png": "[encoded data removed]",
      "text/plain": [
       "<Figure size 442.25x360 with 1 Axes>"
      ]
     },
     "metadata": {
      "needs_background": "light"
     },
     "output_type": "display_data"
    },
    {
     "name": "stdout",
     "output_type": "stream",
     "text": [
      "Student ID: 563\n"
     ]
    },
    {
     "data": {
      "image/png": "[encoded data removed]",
      "text/plain": [
       "<Figure size 442.25x360 with 1 Axes>"
      ]
     },
     "metadata": {
      "needs_background": "light"
     },
     "output_type": "display_data"
    },
    {
     "name": "stdout",
     "output_type": "stream",
     "text": [
      "Student ID: 432\n"
     ]
    },
    {
     "data": {
      "image/png": "[encoded data removed]",
      "text/plain": [
       "<Figure size 442.25x360 with 1 Axes>"
      ]
     },
     "metadata": {
      "needs_background": "light"
     },
     "output_type": "display_data"
    },
    {
     "name": "stdout",
     "output_type": "stream",
     "text": [
      "Student ID: 583\n"
     ]
    },
    {
     "data": {
      "image/png": "[encoded data removed]",
      "text/plain": [
       "<Figure size 442.25x360 with 1 Axes>"
      ]
     },
     "metadata": {
      "needs_background": "light"
     },
     "output_type": "display_data"
    },
    {
     "name": "stdout",
     "output_type": "stream",
     "text": [
      "Student ID: 370\n"
     ]
    },
    {
     "data": {
      "image/png": "[encoded data removed]",
      "text/plain": [
       "<Figure size 442.25x360 with 1 Axes>"
      ]
     },
     "metadata": {
      "needs_background": "light"
     },
     "output_type": "display_data"
    },
    {
     "name": "stdout",
     "output_type": "stream",
     "text": [
      "Student ID: 256\n"
     ]
    },
    {
     "data": {
      "image/png": "[encoded data removed]",
      "text/plain": [
       "<Figure size 442.25x360 with 1 Axes>"
      ]
     },
     "metadata": {
      "needs_background": "light"
     },
     "output_type": "display_data"
    }
   ],
   "source": [
    "lower_limit_threshold = 0.25\n",
    "\n",
    "# See which feature they landed well below or well above peers\n",
    "for index, row in predicted_students_in_trouble.iterrows():\n",
    "    student_id = index\n",
    "    important_low_features = []\n",
    " \n",
    "    for feat in key_features:\n",
    "        if row[feat] < student_por_df[feat].quantile(lower_limit_threshold):\n",
    "            important_low_features.append(feat)\n",
    "    \n",
    "    # create new data set for this student\n",
    "    at_risk_student = pd.DataFrame(row[important_low_features]).T\n",
    "    at_risk_student['Retention_Risk'] = True\n",
    "    student_mean = pd.DataFrame(student_por_df[important_low_features].mean(axis=0)).T\n",
    "    student_mean['Retention_Risk'] = False\n",
    "    student_profile = pd.concat([at_risk_student,student_mean])\n",
    "    student_profile = pd.melt(student_profile, id_vars=\"Retention_Risk\")\n",
    "    \n",
    "    print('Student ID:', student_id)\n",
    "    sns.catplot(x='variable', y='value', hue='Retention_Risk',data=student_profile, kind='bar', \n",
    "                palette=sns.color_palette(['blue', 'red']))\n",
    "\n",
    "    plt.show()"
   ]
  },
  {
   "cell_type": "code",
   "execution_count": null,
   "metadata": {},
   "outputs": [],
   "source": []
  }
 ],
 "metadata": {
  "kernelspec": {
   "display_name": "Python 3",
   "language": "python",
   "name": "python3"
  },
  "language_info": {
   "codemirror_mode": {
    "name": "ipython",
    "version": 3
   },
   "file_extension": ".py",
   "mimetype": "text/x-python",
   "name": "python",
   "nbconvert_exporter": "python",
   "pygments_lexer": "ipython3",
   "version": "3.7.3"
  }
 },
 "nbformat": 4,
 "nbformat_minor": 4
}
